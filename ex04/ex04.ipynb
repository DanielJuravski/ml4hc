{
 "cells": [
  {
   "cell_type": "markdown",
   "metadata": {},
   "source": [
    "<h1 style=\"text-align: center;color:blue\"><em>Daniel Juravski 206082323</em></h1>"
   ]
  },
  {
   "cell_type": "markdown",
   "metadata": {},
   "source": [
    "## Question 01:"
   ]
  },
  {
   "cell_type": "markdown",
   "metadata": {},
   "source": [
    "### Part 1"
   ]
  },
  {
   "cell_type": "markdown",
   "metadata": {},
   "source": [
    "E[${Y^b}$]-E[${Y^a}$] = $\\frac{289}{350}$ - $\\frac{273}{350}$ = $\\frac{8}{175}$ = 4.57%"
   ]
  },
  {
   "cell_type": "markdown",
   "metadata": {},
   "source": [
    "### Part 2"
   ]
  },
  {
   "cell_type": "markdown",
   "metadata": {},
   "source": [
    "Small rocks:\n",
    "\n",
    "E[${Y^a}$]-E[${Y^b}$] = $\\frac{81}{87}$  - $\\frac{234}{270}$ = $\\frac{28}{435}$ = 6.43%"
   ]
  },
  {
   "cell_type": "markdown",
   "metadata": {},
   "source": [
    "Big rocks:\n",
    "\n",
    "E[${Y^a}$]-E[${Y^b}$] = $\\frac{192}{263}$ - $\\frac{55}{80}$ = $\\frac{179}{4208}$ = 4.25%"
   ]
  },
  {
   "cell_type": "markdown",
   "metadata": {},
   "source": [
    "### Part 3"
   ]
  },
  {
   "cell_type": "markdown",
   "metadata": {},
   "source": [
    "$(\\frac{28}{435}*357 + \\frac{179}{4208}*343) / 700$ = 5.36%"
   ]
  },
  {
   "cell_type": "markdown",
   "metadata": {},
   "source": [
    "### Part 4"
   ]
  },
  {
   "cell_type": "markdown",
   "metadata": {},
   "source": [
    "$P(A=a|small)=\\frac{87}{357}$\n",
    "\n",
    "$P(A=b|small)=\\frac{270}{357}$\n",
    "\n",
    "$P(A=a|big)=\\frac{263}{343}$\n",
    "\n",
    "$P(A=b|big)=\\frac{80}{343}$"
   ]
  },
  {
   "cell_type": "markdown",
   "metadata": {},
   "source": [
    "$(\\frac{81}{87}*(87*\\frac{357}{87}) + \\frac{192}{263}*(263*\\frac{343}{263})/{700}$ - $(\\frac{234}{270}*(270*\\frac{357}{270}) + \\frac{55}{80}*(80*\\frac{343}{80})/{700}$ = \n",
    "\n",
    "= $(81*\\frac{357}{87} + 192*\\frac{343}{263})/700$ - $(234*\\frac{357}{270} + 55*\\frac{343}{80})/700$ = \n",
    "\n",
    "= $\\frac{582.782}{700}$ - $\\frac{545.2125}{700}$ = \n",
    "\n",
    "= $\\frac{37.5695}{700}$ = \n",
    "\n",
    "= $0.0536$ = 5.36%"
   ]
  },
  {
   "cell_type": "markdown",
   "metadata": {},
   "source": [
    "## Question 02:"
   ]
  },
  {
   "cell_type": "markdown",
   "metadata": {},
   "source": [
    "marked_samples = [ ]\n",
    "\n",
    "WHILE (unmarked # of treated samples > 0 and unmarked # of untreated samples > 0) DO\n",
    "\n",
    "   c <- flip a coin\n",
    "   \n",
    "    IF c is 'heads' THEN\n",
    "    \n",
    "        treated_sample <- pick randomaly an unmarked treated sample (and mark it)\n",
    "        \n",
    "        untreated_sample <- pick the closest (to the treated_sample) unmarked untreated sample (and mark it)\n",
    "        \n",
    "    ELSE (c is 'tails')\n",
    "    \n",
    "        untreated_sample <- pick randomaly an unmarked untreated sample (and mark it)\n",
    "        \n",
    "        treated_sample <- pick the closest (to the untreated_sample) unmarked treated sample (and mark it)\n",
    "        \n",
    "    marked_samples.insert((treated_sample, untreated_sample))\n",
    "    \n",
    "RETURN marked_samples"
   ]
  },
  {
   "cell_type": "markdown",
   "metadata": {},
   "source": [
    "The algorithm above is an expansion to the algorithm that we saw in class. The addition here is that the total distribution isn't derived only from the leading untreated samples (as we saw in class), but also from the untreated samples (i.e. when the coin is tails). In that way, we make up the distribution to be composed out of both untreated and treated samples - samples that seem to represent the entire population (We still need to define the 'closest' metric when we pick the closest samples to each other, maybe Mahalanobis metric can make a good job with that sampling).\n",
    "\n"
   ]
  },
  {
   "cell_type": "markdown",
   "metadata": {},
   "source": [
    "## Question 03:"
   ]
  },
  {
   "cell_type": "code",
   "execution_count": 1,
   "metadata": {},
   "outputs": [],
   "source": [
    "from causallib.datasets import load_nhefs\n",
    "data = load_nhefs()"
   ]
  },
  {
   "cell_type": "markdown",
   "metadata": {},
   "source": [
    "### Part 1"
   ]
  },
  {
   "cell_type": "code",
   "execution_count": 2,
   "metadata": {},
   "outputs": [
    {
     "name": "stdout",
     "output_type": "stream",
     "text": [
      "The observed effect is E[Y|A=1]-E[Y|A=0]:\n"
     ]
    },
    {
     "data": {
      "text/plain": [
       "2.540581454955886"
      ]
     },
     "execution_count": 2,
     "metadata": {},
     "output_type": "execute_result"
    }
   ],
   "source": [
    "from sklearn.linear_model import LogisticRegression\n",
    "from causallib.estimation import IPW\n",
    "\n",
    "learner = LogisticRegression(penalty='none',\n",
    "                             solver='lbfgs',\n",
    "                             max_iter=1000)\n",
    "ipw = IPW(learner)\n",
    "ipw.fit(data.X, data.a)\n",
    "\n",
    "# cassual_effect\n",
    "potential_outcomes = ipw.estimate_population_outcome(data.X, data.a, data.y)\n",
    "cassual_effect = ipw.estimate_effect(potential_outcomes[1], potential_outcomes[0])\n",
    "\n",
    "# observed_effect\n",
    "observed_outcomes = data.y.groupby(data.a).mean()\n",
    "observed_effect = observed_outcomes[1] - observed_outcomes[0]\n",
    "\n",
    "print(\"The observed effect is E[Y|A=1]-E[Y|A=0]:\")\n",
    "observed_effect\n"
   ]
  },
  {
   "cell_type": "markdown",
   "metadata": {},
   "source": [
    "### Part 2"
   ]
  },
  {
   "cell_type": "code",
   "execution_count": 3,
   "metadata": {},
   "outputs": [
    {
     "data": {
      "image/png": "[encoded data removed]",
      "text/plain": [
       "<Figure size 432x432 with 1 Axes>"
      ]
     },
     "metadata": {
      "needs_background": "light"
     },
     "output_type": "display_data"
    }
   ],
   "source": [
    "%matplotlib inline\n",
    "from causallib.evaluation import PropensityEvaluator\n",
    "\n",
    "evaluator = PropensityEvaluator(ipw)\n",
    "evaluation_results = evaluator.evaluate_simple(data.X, data.a, data.y, plots=[\"covariate_balance_love\"])\n",
    "fig = evaluation_results.plots[\"covariate_balance_love\"].get_figure()\n",
    "fig.set_size_inches(6, 6)"
   ]
  },
  {
   "cell_type": "markdown",
   "metadata": {},
   "source": [
    "The most biased variable is the \"age\" variable."
   ]
  },
  {
   "cell_type": "markdown",
   "metadata": {},
   "source": [
    "### Part 3"
   ]
  },
  {
   "cell_type": "markdown",
   "metadata": {},
   "source": [
    "The function below divides the population's data by the <i>var</i> variable into <i>k</i> groups. A group that do not contain both untreadted and treated case is ignored and is not averaged."
   ]
  },
  {
   "cell_type": "code",
   "execution_count": 4,
   "metadata": {},
   "outputs": [],
   "source": [
    "import matplotlib.pyplot as plt\n",
    "import pandas as pd\n",
    "import numpy as np\n",
    "\n",
    "def group_and_observe_by(var, k, plot=True):\n",
    "    # make group intervals\n",
    "    step_size = (data.X[var].max() - data.X[var].min())/k\n",
    "    step_size = int(round(step_size))\n",
    "    groups = range(data.X[var].min(), data.X[var].max() + step_size, step_size)\n",
    "    print(\"The groups' intervals are: \", list(groups))\n",
    "    grouped = pd.cut(data.X[var], bins=groups, include_lowest=True)\n",
    "    grouped.head()\n",
    "\n",
    "    # get observed diffs by the groups\n",
    "    observed_diff = data.y.groupby([data.a, grouped]).mean()\n",
    "    observed_diff = observed_diff.xs(1) - observed_diff.xs(0)\n",
    "    observed_diff = observed_diff.rename(\"observed_effect\")\n",
    "    if plot:\n",
    "        ax = observed_diff.plot(kind=\"barh\")\n",
    "        ax.set_xlabel(var)\n",
    "        ax.set_xlabel(\"observed_effect\")\n",
    "        plt.show()\n",
    "\n",
    "    # get groups' frequency\n",
    "    frequency = grouped.value_counts(sort=False)\n",
    "    frequency.rename(\"counts\", inplace=True)\n",
    "    if plot:\n",
    "        ax = frequency.plot(kind=\"barh\")\n",
    "        ax.set_xlabel(\"counts\")\n",
    "        plt.show()\n",
    "    \n",
    "    # get propensity based on the groups\n",
    "    by_var = observed_diff.to_frame().join(frequency)\n",
    "    tx_distribution = data.a.groupby(grouped, observed=True).value_counts()\n",
    "    tx_distribution = tx_distribution.unstack(\"qsmk\")\n",
    "    tx_distribution[\"propensity\"] = tx_distribution[1] / tx_distribution.sum(axis=\"columns\")\n",
    "    by_var = by_var.join(tx_distribution)\n",
    "    print(by_var)\n",
    "\n",
    "    # get weighted average\n",
    "    # drop nan(s)\n",
    "    masked_data = np.ma.masked_array(by_var[\"observed_effect\"], np.isnan(by_var[\"observed_effect\"]))\n",
    "    avg = np.ma.average(masked_data, weights=by_var[\"counts\"])\n",
    "    print(\"\\nThe average observed effect (factoring in the size of each {0} {1} groups) is: {2}\"\n",
    "          .format(var, k, avg))\n",
    "    \n",
    "    return avg"
   ]
  },
  {
   "cell_type": "code",
   "execution_count": 5,
   "metadata": {},
   "outputs": [
    {
     "name": "stdout",
     "output_type": "stream",
     "text": [
      "The groups' intervals are:  [25, 30, 35, 40, 45, 50, 55, 60, 65, 70, 75]\n"
     ]
    },
    {
     "data": {
      "image/png": "[encoded data removed]",
      "text/plain": [
       "<Figure size 432x288 with 1 Axes>"
      ]
     },
     "metadata": {
      "needs_background": "light"
     },
     "output_type": "display_data"
    },
    {
     "data": {
      "image/png": "[encoded data removed]",
      "text/plain": [
       "<Figure size 432x288 with 1 Axes>"
      ]
     },
     "metadata": {
      "needs_background": "light"
     },
     "output_type": "display_data"
    },
    {
     "name": "stdout",
     "output_type": "stream",
     "text": [
      "                observed_effect  counts    0   1  propensity\n",
      "age                                                         \n",
      "(24.999, 30.0]         2.263298     276  228  48    0.173913\n",
      "(30.0, 35.0]           3.100541     214  160  54    0.252336\n",
      "(35.0, 40.0]           2.433750     177  136  41    0.231638\n",
      "(40.0, 45.0]           3.801950     197  146  51    0.258883\n",
      "(45.0, 50.0]           3.603730     234  181  53    0.226496\n",
      "(50.0, 55.0]           5.238368     186  133  53    0.284946\n",
      "(55.0, 60.0]           2.871668     132   81  51    0.386364\n",
      "(60.0, 65.0]           1.402340      85   55  30    0.352941\n",
      "(65.0, 70.0]           3.602345      53   38  15    0.283019\n",
      "(70.0, 75.0]          -9.985035      12    5   7    0.583333\n",
      "\n",
      "The average observed effect (factoring in the size of each age 10 groups) is: 3.1002018883702958\n"
     ]
    },
    {
     "data": {
      "text/plain": [
       "3.1002018883702958"
      ]
     },
     "execution_count": 5,
     "metadata": {},
     "output_type": "execute_result"
    }
   ],
   "source": [
    "group_and_observe_by(\"age\", k=10)"
   ]
  },
  {
   "cell_type": "markdown",
   "metadata": {},
   "source": [
    "### Part 4"
   ]
  },
  {
   "cell_type": "code",
   "execution_count": 6,
   "metadata": {},
   "outputs": [
    {
     "name": "stdout",
     "output_type": "stream",
     "text": [
      "The groups' intervals are:  [1, 9, 17, 25, 33, 41, 49, 57, 65, 73, 81]\n"
     ]
    },
    {
     "data": {
      "image/png": "[encoded data removed]",
      "text/plain": [
       "<Figure size 432x288 with 1 Axes>"
      ]
     },
     "metadata": {
      "needs_background": "light"
     },
     "output_type": "display_data"
    },
    {
     "data": {
      "image/png": "[encoded data removed]",
      "text/plain": [
       "<Figure size 432x288 with 1 Axes>"
      ]
     },
     "metadata": {
      "needs_background": "light"
     },
     "output_type": "display_data"
    },
    {
     "name": "stdout",
     "output_type": "stream",
     "text": [
      "                observed_effect  counts      0      1  propensity\n",
      "smokeintensity                                                   \n",
      "(0.999, 9.0]           1.493204     219  135.0   84.0    0.383562\n",
      "(9.0, 17.0]            1.475089     333  236.0   97.0    0.291291\n",
      "(17.0, 25.0]           3.779998     610  484.0  126.0    0.206557\n",
      "(25.0, 33.0]           3.985627     179  131.0   48.0    0.268156\n",
      "(33.0, 41.0]           3.923470     181  143.0   38.0    0.209945\n",
      "(41.0, 49.0]          -8.418486       8    7.0    1.0    0.125000\n",
      "(49.0, 57.0]          -4.736244      22   17.0    5.0    0.227273\n",
      "(57.0, 65.0]          -6.113288      13   10.0    3.0    0.230769\n",
      "(65.0, 73.0]                NaN       0    NaN    NaN         NaN\n",
      "(73.0, 81.0]                NaN       1    NaN    1.0    1.000000\n",
      "\n",
      "The average observed effect (factoring in the size of each smokeintensity 10 groups) is: 2.745413810751163\n"
     ]
    },
    {
     "data": {
      "text/plain": [
       "2.745413810751163"
      ]
     },
     "execution_count": 6,
     "metadata": {},
     "output_type": "execute_result"
    }
   ],
   "source": [
    "group_and_observe_by(\"smokeintensity\", k=10)"
   ]
  },
  {
   "cell_type": "markdown",
   "metadata": {},
   "source": [
    "- We should pay attention to the groups' division - while in the (73.0, 81.0] group there was only a single case of a quit smoker sample (and none non-quit smoker samples), in the (65.0, 73.0] group there wasn't any case of samples (that range has come from the equal range division).\n",
    "- We can see that the vast majority of the samples were in the (0.999, 41.0] - what makes sense since smokeintensity of above 41 per day seems to be extreme cases and probably not easy to quit them.\n",
    "- That effect makes sense compared to the age effect:\n",
    "    - We can see that as the smokeintensity's ASMD is lower than the age's ASMD, so there effect proportion.\n",
    "    - We can see that while the observed effect is 2.54, the smokeintensity effect is above it (as the age's effect).\n",
    "    - We should pay attention that the massive positive effect caused by the smokeintensity var is in the (0.999, 41.0], cause we can estimate that if a person that was a smoker of more than 41 cigarettes a day - quit smoking, there some major circumstances for this (like super fatal diseases) that they could cause the dramatic weight lose."
   ]
  },
  {
   "cell_type": "markdown",
   "metadata": {},
   "source": [
    "### Part 5"
   ]
  },
  {
   "cell_type": "code",
   "execution_count": 7,
   "metadata": {},
   "outputs": [],
   "source": [
    "def effect_by_k_groups(var):\n",
    "    effects = []\n",
    "    xs = range(1, 21)\n",
    "    for i in xs:\n",
    "        effects.append(group_and_observe_by(var, k=i, plot=False))\n",
    "\n",
    "    plt.plot(xs, effects)\n",
    "    plt.show()"
   ]
  },
  {
   "cell_type": "code",
   "execution_count": 8,
   "metadata": {},
   "outputs": [
    {
     "name": "stdout",
     "output_type": "stream",
     "text": [
      "The groups' intervals are:  [25, 74]\n",
      "                observed_effect  counts     0    1  propensity\n",
      "age                                                           \n",
      "(24.999, 74.0]         2.540581    1566  1163  403    0.257344\n",
      "\n",
      "The average observed effect (factoring in the size of each age 1 groups) is: 2.540581454955886\n",
      "The groups' intervals are:  [25, 49, 73, 97]\n",
      "                observed_effect  counts      0      1  propensity\n",
      "age                                                              \n",
      "(24.999, 49.0]         3.226089    1041  811.0  230.0    0.220941\n",
      "(49.0, 73.0]           2.845498     523  352.0  171.0    0.326960\n",
      "(73.0, 97.0]                NaN       2    NaN    2.0    1.000000\n",
      "\n",
      "The average observed effect (factoring in the size of each age 2 groups) is: 3.098819557759759\n",
      "The groups' intervals are:  [25, 41, 57, 73, 89]\n",
      "                observed_effect  counts      0      1  propensity\n",
      "age                                                              \n",
      "(24.999, 41.0]         2.421970     701  552.0  149.0    0.212553\n",
      "(41.0, 57.0]           4.167047     653  476.0  177.0    0.271057\n",
      "(57.0, 73.0]           1.951657     210  135.0   75.0    0.357143\n",
      "(73.0, 89.0]                NaN       2    NaN    2.0    1.000000\n",
      "\n",
      "The average observed effect (factoring in the size of each age 3 groups) is: 3.0874240683629375\n",
      "The groups' intervals are:  [25, 37, 49, 61, 73, 85]\n",
      "                observed_effect  counts      0      1  propensity\n",
      "age                                                              \n",
      "(24.999, 37.0]         2.339149     555  444.0  111.0    0.200000\n",
      "(37.0, 49.0]           4.181419     486  367.0  119.0    0.244856\n",
      "(49.0, 61.0]           3.487896     396  267.0  129.0    0.325758\n",
      "(61.0, 73.0]           0.926017     127   85.0   42.0    0.330709\n",
      "(73.0, 85.0]                NaN       2    NaN    2.0    1.000000\n",
      "\n",
      "The average observed effect (factoring in the size of each age 4 groups) is: 3.087729115049276\n",
      "The groups' intervals are:  [25, 35, 45, 55, 65, 75]\n",
      "                observed_effect  counts    0    1  propensity\n",
      "age                                                          \n",
      "(24.999, 35.0]         2.700844     490  388  102    0.208163\n",
      "(35.0, 45.0]           3.202440     374  282   92    0.245989\n",
      "(45.0, 55.0]           4.336009     420  314  106    0.252381\n",
      "(55.0, 65.0]           2.379852     217  136   81    0.373272\n",
      "(65.0, 75.0]          -0.403041      65   43   22    0.338462\n",
      "\n",
      "The average observed effect (factoring in the size of each age 5 groups) is: 3.085875170568563\n",
      "The groups' intervals are:  [25, 33, 41, 49, 57, 65, 73, 81]\n",
      "                observed_effect  counts      0     1  propensity\n",
      "age                                                             \n",
      "(24.999, 33.0]         2.229187     399  319.0  80.0    0.200501\n",
      "(33.0, 41.0]           2.705239     302  233.0  69.0    0.228477\n",
      "(41.0, 49.0]           4.837928     340  259.0  81.0    0.238235\n",
      "(49.0, 57.0]           3.832921     313  217.0  96.0    0.306709\n",
      "(57.0, 65.0]           2.328006     147   92.0  55.0    0.374150\n",
      "(65.0, 73.0]           0.344020      63   43.0  20.0    0.317460\n",
      "(73.0, 81.0]                NaN       2    NaN   2.0    1.000000\n",
      "\n",
      "The average observed effect (factoring in the size of each age 6 groups) is: 3.1425306381681635\n",
      "The groups' intervals are:  [25, 32, 39, 46, 53, 60, 67, 74]\n",
      "                observed_effect  counts    0   1  propensity\n",
      "age                                                         \n",
      "(24.999, 32.0]         1.994921     359  288  71    0.197772\n",
      "(32.0, 39.0]           3.124216     272  214  58    0.213235\n",
      "(39.0, 46.0]           4.423738     280  207  73    0.260714\n",
      "(46.0, 53.0]           4.461228     291  219  72    0.247423\n",
      "(53.0, 60.0]           2.872608     214  137  77    0.359813\n",
      "(60.0, 67.0]           1.543961     106   70  36    0.339623\n",
      "(67.0, 74.0]          -0.994488      44   28  16    0.363636\n",
      "\n",
      "The average observed effect (factoring in the size of each age 7 groups) is: 3.089059918258415\n",
      "The groups' intervals are:  [25, 31, 37, 43, 49, 55, 61, 67, 73, 79]\n",
      "                observed_effect  counts      0     1  propensity\n",
      "age                                                             \n",
      "(24.999, 31.0]         2.043264     312  253.0  59.0    0.189103\n",
      "(31.0, 37.0]           2.702080     243  191.0  52.0    0.213992\n",
      "(37.0, 43.0]           4.493331     231  174.0  57.0    0.246753\n",
      "(43.0, 49.0]           3.878286     255  193.0  62.0    0.243137\n",
      "(49.0, 55.0]           4.308699     243  173.0  70.0    0.288066\n",
      "(55.0, 61.0]           2.726714     153   94.0  59.0    0.385621\n",
      "(61.0, 67.0]           1.497268      85   57.0  28.0    0.329412\n",
      "(67.0, 73.0]          -0.172061      42   28.0  14.0    0.333333\n",
      "(73.0, 79.0]                NaN       2    NaN   2.0    1.000000\n",
      "\n",
      "The average observed effect (factoring in the size of each age 8 groups) is: 3.1363606930165138\n",
      "The groups' intervals are:  [25, 30, 35, 40, 45, 50, 55, 60, 65, 70, 75]\n",
      "                observed_effect  counts    0   1  propensity\n",
      "age                                                         \n",
      "(24.999, 30.0]         2.263298     276  228  48    0.173913\n",
      "(30.0, 35.0]           3.100541     214  160  54    0.252336\n",
      "(35.0, 40.0]           2.433750     177  136  41    0.231638\n",
      "(40.0, 45.0]           3.801950     197  146  51    0.258883\n",
      "(45.0, 50.0]           3.603730     234  181  53    0.226496\n",
      "(50.0, 55.0]           5.238368     186  133  53    0.284946\n",
      "(55.0, 60.0]           2.871668     132   81  51    0.386364\n",
      "(60.0, 65.0]           1.402340      85   55  30    0.352941\n",
      "(65.0, 70.0]           3.602345      53   38  15    0.283019\n",
      "(70.0, 75.0]          -9.985035      12    5   7    0.583333\n",
      "\n",
      "The average observed effect (factoring in the size of each age 9 groups) is: 3.1002018883702958\n",
      "The groups' intervals are:  [25, 30, 35, 40, 45, 50, 55, 60, 65, 70, 75]\n",
      "                observed_effect  counts    0   1  propensity\n",
      "age                                                         \n",
      "(24.999, 30.0]         2.263298     276  228  48    0.173913\n",
      "(30.0, 35.0]           3.100541     214  160  54    0.252336\n",
      "(35.0, 40.0]           2.433750     177  136  41    0.231638\n",
      "(40.0, 45.0]           3.801950     197  146  51    0.258883\n",
      "(45.0, 50.0]           3.603730     234  181  53    0.226496\n",
      "(50.0, 55.0]           5.238368     186  133  53    0.284946\n",
      "(55.0, 60.0]           2.871668     132   81  51    0.386364\n",
      "(60.0, 65.0]           1.402340      85   55  30    0.352941\n",
      "(65.0, 70.0]           3.602345      53   38  15    0.283019\n",
      "(70.0, 75.0]          -9.985035      12    5   7    0.583333\n",
      "\n",
      "The average observed effect (factoring in the size of each age 10 groups) is: 3.1002018883702958\n",
      "The groups' intervals are:  [25, 29, 33, 37, 41, 45, 49, 53, 57, 61, 65, 69, 73, 77]\n",
      "                observed_effect  counts      0     1  propensity\n",
      "age                                                             \n",
      "(24.999, 29.0]         2.483203     235  193.0  42.0    0.178723\n",
      "(29.0, 33.0]           1.675723     164  126.0  38.0    0.231707\n",
      "(33.0, 37.0]           2.614970     156  125.0  31.0    0.198718\n",
      "(37.0, 41.0]           2.672729     146  108.0  38.0    0.260274\n",
      "(41.0, 45.0]           4.712200     163  118.0  45.0    0.276074\n",
      "(45.0, 49.0]           4.633519     177  141.0  36.0    0.203390\n",
      "(49.0, 53.0]           5.032379     161  117.0  44.0    0.273292\n",
      "(53.0, 57.0]           2.778288     152  100.0  52.0    0.342105\n",
      "(57.0, 61.0]           3.001882      83   50.0  33.0    0.397590\n",
      "(61.0, 65.0]           1.293355      64   42.0  22.0    0.343750\n",
      "(65.0, 69.0]           3.990800      46   34.0  12.0    0.260870\n",
      "(69.0, 73.0]          -4.507361      17    9.0   8.0    0.470588\n",
      "(73.0, 77.0]                NaN       2    NaN   2.0    1.000000\n",
      "\n",
      "The average observed effect (factoring in the size of each age 11 groups) is: 3.143313108705712\n",
      "The groups' intervals are:  [25, 29, 33, 37, 41, 45, 49, 53, 57, 61, 65, 69, 73, 77]\n",
      "                observed_effect  counts      0     1  propensity\n",
      "age                                                             \n",
      "(24.999, 29.0]         2.483203     235  193.0  42.0    0.178723\n",
      "(29.0, 33.0]           1.675723     164  126.0  38.0    0.231707\n",
      "(33.0, 37.0]           2.614970     156  125.0  31.0    0.198718\n",
      "(37.0, 41.0]           2.672729     146  108.0  38.0    0.260274\n",
      "(41.0, 45.0]           4.712200     163  118.0  45.0    0.276074\n",
      "(45.0, 49.0]           4.633519     177  141.0  36.0    0.203390\n",
      "(49.0, 53.0]           5.032379     161  117.0  44.0    0.273292\n",
      "(53.0, 57.0]           2.778288     152  100.0  52.0    0.342105\n",
      "(57.0, 61.0]           3.001882      83   50.0  33.0    0.397590\n",
      "(61.0, 65.0]           1.293355      64   42.0  22.0    0.343750\n",
      "(65.0, 69.0]           3.990800      46   34.0  12.0    0.260870\n",
      "(69.0, 73.0]          -4.507361      17    9.0   8.0    0.470588\n",
      "(73.0, 77.0]                NaN       2    NaN   2.0    1.000000\n",
      "\n",
      "The average observed effect (factoring in the size of each age 12 groups) is: 3.143313108705712\n",
      "The groups' intervals are:  [25, 29, 33, 37, 41, 45, 49, 53, 57, 61, 65, 69, 73, 77]\n",
      "                observed_effect  counts      0     1  propensity\n",
      "age                                                             \n",
      "(24.999, 29.0]         2.483203     235  193.0  42.0    0.178723\n",
      "(29.0, 33.0]           1.675723     164  126.0  38.0    0.231707\n",
      "(33.0, 37.0]           2.614970     156  125.0  31.0    0.198718\n",
      "(37.0, 41.0]           2.672729     146  108.0  38.0    0.260274\n",
      "(41.0, 45.0]           4.712200     163  118.0  45.0    0.276074\n",
      "(45.0, 49.0]           4.633519     177  141.0  36.0    0.203390\n",
      "(49.0, 53.0]           5.032379     161  117.0  44.0    0.273292\n",
      "(53.0, 57.0]           2.778288     152  100.0  52.0    0.342105\n",
      "(57.0, 61.0]           3.001882      83   50.0  33.0    0.397590\n",
      "(61.0, 65.0]           1.293355      64   42.0  22.0    0.343750\n",
      "(65.0, 69.0]           3.990800      46   34.0  12.0    0.260870\n",
      "(69.0, 73.0]          -4.507361      17    9.0   8.0    0.470588\n",
      "(73.0, 77.0]                NaN       2    NaN   2.0    1.000000\n",
      "\n",
      "The average observed effect (factoring in the size of each age 13 groups) is: 3.143313108705712\n",
      "The groups' intervals are:  [25, 29, 33, 37, 41, 45, 49, 53, 57, 61, 65, 69, 73, 77]\n"
     ]
    },
    {
     "name": "stdout",
     "output_type": "stream",
     "text": [
      "                observed_effect  counts      0     1  propensity\n",
      "age                                                             \n",
      "(24.999, 29.0]         2.483203     235  193.0  42.0    0.178723\n",
      "(29.0, 33.0]           1.675723     164  126.0  38.0    0.231707\n",
      "(33.0, 37.0]           2.614970     156  125.0  31.0    0.198718\n",
      "(37.0, 41.0]           2.672729     146  108.0  38.0    0.260274\n",
      "(41.0, 45.0]           4.712200     163  118.0  45.0    0.276074\n",
      "(45.0, 49.0]           4.633519     177  141.0  36.0    0.203390\n",
      "(49.0, 53.0]           5.032379     161  117.0  44.0    0.273292\n",
      "(53.0, 57.0]           2.778288     152  100.0  52.0    0.342105\n",
      "(57.0, 61.0]           3.001882      83   50.0  33.0    0.397590\n",
      "(61.0, 65.0]           1.293355      64   42.0  22.0    0.343750\n",
      "(65.0, 69.0]           3.990800      46   34.0  12.0    0.260870\n",
      "(69.0, 73.0]          -4.507361      17    9.0   8.0    0.470588\n",
      "(73.0, 77.0]                NaN       2    NaN   2.0    1.000000\n",
      "\n",
      "The average observed effect (factoring in the size of each age 14 groups) is: 3.143313108705712\n",
      "The groups' intervals are:  [25, 28, 31, 34, 37, 40, 43, 46, 49, 52, 55, 58, 61, 64, 67, 70, 73, 76]\n",
      "                observed_effect  counts      0     1  propensity\n",
      "age                                                             \n",
      "(24.999, 28.0]         2.106044     195  159.0  36.0    0.184615\n",
      "(28.0, 31.0]           1.887282     117   94.0  23.0    0.196581\n",
      "(31.0, 34.0]           3.057413     139  104.0  35.0    0.251799\n",
      "(34.0, 37.0]           2.135407     104   87.0  17.0    0.163462\n",
      "(37.0, 40.0]           3.752019     112   80.0  32.0    0.285714\n",
      "(40.0, 43.0]           5.659438     119   94.0  25.0    0.210084\n",
      "(43.0, 46.0]           3.942551     125   91.0  34.0    0.272000\n",
      "(46.0, 49.0]           3.783126     130  102.0  28.0    0.215385\n",
      "(49.0, 52.0]           2.803479     120   90.0  30.0    0.250000\n",
      "(52.0, 55.0]           5.539611     123   83.0  40.0    0.325203\n",
      "(55.0, 58.0]           1.326809      95   58.0  37.0    0.389474\n",
      "(58.0, 61.0]           4.999341      58   36.0  22.0    0.379310\n",
      "(61.0, 64.0]           1.550941      47   31.0  16.0    0.340426\n",
      "(64.0, 67.0]           1.381922      38   26.0  12.0    0.315789\n",
      "(67.0, 70.0]           4.589639      32   23.0   9.0    0.281250\n",
      "(70.0, 73.0]         -10.273065      10    5.0   5.0    0.500000\n",
      "(73.0, 76.0]                NaN       2    NaN   2.0    1.000000\n",
      "\n",
      "The average observed effect (factoring in the size of each age 15 groups) is: 3.1714968473721235\n",
      "The groups' intervals are:  [25, 28, 31, 34, 37, 40, 43, 46, 49, 52, 55, 58, 61, 64, 67, 70, 73, 76]\n",
      "                observed_effect  counts      0     1  propensity\n",
      "age                                                             \n",
      "(24.999, 28.0]         2.106044     195  159.0  36.0    0.184615\n",
      "(28.0, 31.0]           1.887282     117   94.0  23.0    0.196581\n",
      "(31.0, 34.0]           3.057413     139  104.0  35.0    0.251799\n",
      "(34.0, 37.0]           2.135407     104   87.0  17.0    0.163462\n",
      "(37.0, 40.0]           3.752019     112   80.0  32.0    0.285714\n",
      "(40.0, 43.0]           5.659438     119   94.0  25.0    0.210084\n",
      "(43.0, 46.0]           3.942551     125   91.0  34.0    0.272000\n",
      "(46.0, 49.0]           3.783126     130  102.0  28.0    0.215385\n",
      "(49.0, 52.0]           2.803479     120   90.0  30.0    0.250000\n",
      "(52.0, 55.0]           5.539611     123   83.0  40.0    0.325203\n",
      "(55.0, 58.0]           1.326809      95   58.0  37.0    0.389474\n",
      "(58.0, 61.0]           4.999341      58   36.0  22.0    0.379310\n",
      "(61.0, 64.0]           1.550941      47   31.0  16.0    0.340426\n",
      "(64.0, 67.0]           1.381922      38   26.0  12.0    0.315789\n",
      "(67.0, 70.0]           4.589639      32   23.0   9.0    0.281250\n",
      "(70.0, 73.0]         -10.273065      10    5.0   5.0    0.500000\n",
      "(73.0, 76.0]                NaN       2    NaN   2.0    1.000000\n",
      "\n",
      "The average observed effect (factoring in the size of each age 16 groups) is: 3.1714968473721235\n",
      "The groups' intervals are:  [25, 28, 31, 34, 37, 40, 43, 46, 49, 52, 55, 58, 61, 64, 67, 70, 73, 76]\n",
      "                observed_effect  counts      0     1  propensity\n",
      "age                                                             \n",
      "(24.999, 28.0]         2.106044     195  159.0  36.0    0.184615\n",
      "(28.0, 31.0]           1.887282     117   94.0  23.0    0.196581\n",
      "(31.0, 34.0]           3.057413     139  104.0  35.0    0.251799\n",
      "(34.0, 37.0]           2.135407     104   87.0  17.0    0.163462\n",
      "(37.0, 40.0]           3.752019     112   80.0  32.0    0.285714\n",
      "(40.0, 43.0]           5.659438     119   94.0  25.0    0.210084\n",
      "(43.0, 46.0]           3.942551     125   91.0  34.0    0.272000\n",
      "(46.0, 49.0]           3.783126     130  102.0  28.0    0.215385\n",
      "(49.0, 52.0]           2.803479     120   90.0  30.0    0.250000\n",
      "(52.0, 55.0]           5.539611     123   83.0  40.0    0.325203\n",
      "(55.0, 58.0]           1.326809      95   58.0  37.0    0.389474\n",
      "(58.0, 61.0]           4.999341      58   36.0  22.0    0.379310\n",
      "(61.0, 64.0]           1.550941      47   31.0  16.0    0.340426\n",
      "(64.0, 67.0]           1.381922      38   26.0  12.0    0.315789\n",
      "(67.0, 70.0]           4.589639      32   23.0   9.0    0.281250\n",
      "(70.0, 73.0]         -10.273065      10    5.0   5.0    0.500000\n",
      "(73.0, 76.0]                NaN       2    NaN   2.0    1.000000\n",
      "\n",
      "The average observed effect (factoring in the size of each age 17 groups) is: 3.1714968473721235\n",
      "The groups' intervals are:  [25, 28, 31, 34, 37, 40, 43, 46, 49, 52, 55, 58, 61, 64, 67, 70, 73, 76]\n",
      "                observed_effect  counts      0     1  propensity\n",
      "age                                                             \n",
      "(24.999, 28.0]         2.106044     195  159.0  36.0    0.184615\n",
      "(28.0, 31.0]           1.887282     117   94.0  23.0    0.196581\n",
      "(31.0, 34.0]           3.057413     139  104.0  35.0    0.251799\n",
      "(34.0, 37.0]           2.135407     104   87.0  17.0    0.163462\n",
      "(37.0, 40.0]           3.752019     112   80.0  32.0    0.285714\n",
      "(40.0, 43.0]           5.659438     119   94.0  25.0    0.210084\n",
      "(43.0, 46.0]           3.942551     125   91.0  34.0    0.272000\n",
      "(46.0, 49.0]           3.783126     130  102.0  28.0    0.215385\n",
      "(49.0, 52.0]           2.803479     120   90.0  30.0    0.250000\n",
      "(52.0, 55.0]           5.539611     123   83.0  40.0    0.325203\n",
      "(55.0, 58.0]           1.326809      95   58.0  37.0    0.389474\n",
      "(58.0, 61.0]           4.999341      58   36.0  22.0    0.379310\n",
      "(61.0, 64.0]           1.550941      47   31.0  16.0    0.340426\n",
      "(64.0, 67.0]           1.381922      38   26.0  12.0    0.315789\n",
      "(67.0, 70.0]           4.589639      32   23.0   9.0    0.281250\n",
      "(70.0, 73.0]         -10.273065      10    5.0   5.0    0.500000\n",
      "(73.0, 76.0]                NaN       2    NaN   2.0    1.000000\n",
      "\n",
      "The average observed effect (factoring in the size of each age 18 groups) is: 3.1714968473721235\n",
      "The groups' intervals are:  [25, 28, 31, 34, 37, 40, 43, 46, 49, 52, 55, 58, 61, 64, 67, 70, 73, 76]\n",
      "                observed_effect  counts      0     1  propensity\n",
      "age                                                             \n",
      "(24.999, 28.0]         2.106044     195  159.0  36.0    0.184615\n",
      "(28.0, 31.0]           1.887282     117   94.0  23.0    0.196581\n",
      "(31.0, 34.0]           3.057413     139  104.0  35.0    0.251799\n",
      "(34.0, 37.0]           2.135407     104   87.0  17.0    0.163462\n",
      "(37.0, 40.0]           3.752019     112   80.0  32.0    0.285714\n",
      "(40.0, 43.0]           5.659438     119   94.0  25.0    0.210084\n",
      "(43.0, 46.0]           3.942551     125   91.0  34.0    0.272000\n",
      "(46.0, 49.0]           3.783126     130  102.0  28.0    0.215385\n",
      "(49.0, 52.0]           2.803479     120   90.0  30.0    0.250000\n",
      "(52.0, 55.0]           5.539611     123   83.0  40.0    0.325203\n",
      "(55.0, 58.0]           1.326809      95   58.0  37.0    0.389474\n",
      "(58.0, 61.0]           4.999341      58   36.0  22.0    0.379310\n",
      "(61.0, 64.0]           1.550941      47   31.0  16.0    0.340426\n",
      "(64.0, 67.0]           1.381922      38   26.0  12.0    0.315789\n",
      "(67.0, 70.0]           4.589639      32   23.0   9.0    0.281250\n",
      "(70.0, 73.0]         -10.273065      10    5.0   5.0    0.500000\n",
      "(73.0, 76.0]                NaN       2    NaN   2.0    1.000000\n",
      "\n",
      "The average observed effect (factoring in the size of each age 19 groups) is: 3.1714968473721235\n",
      "The groups' intervals are:  [25, 27, 29, 31, 33, 35, 37, 39, 41, 43, 45, 47, 49, 51, 53, 55, 57, 59, 61, 63, 65, 67, 69, 71, 73, 75]\n",
      "                observed_effect  counts      0     1  propensity\n",
      "age                                                             \n",
      "(24.999, 27.0]         1.992665     141  114.0  27.0    0.191489\n",
      "(27.0, 29.0]           3.536799      94   79.0  15.0    0.159574\n",
      "(29.0, 31.0]           0.579483      77   60.0  17.0    0.220779\n",
      "(31.0, 33.0]           2.614044      87   66.0  21.0    0.241379\n",
      "(33.0, 35.0]           4.666860      91   69.0  22.0    0.241758\n",
      "(35.0, 37.0]          -1.862688      65   56.0   9.0    0.138462\n",
      "(37.0, 39.0]           3.459219      76   58.0  18.0    0.236842\n",
      "(39.0, 41.0]           1.765079      70   50.0  20.0    0.285714\n",
      "(41.0, 43.0]           8.111554      85   66.0  19.0    0.223529\n",
      "(43.0, 45.0]           2.417254      78   52.0  26.0    0.333333\n",
      "(45.0, 47.0]           6.544212      91   75.0  16.0    0.175824\n",
      "(47.0, 49.0]           2.998022      86   66.0  20.0    0.232558\n",
      "(49.0, 51.0]           1.487151      95   69.0  26.0    0.273684\n",
      "(51.0, 53.0]          10.146685      66   48.0  18.0    0.272727\n",
      "(53.0, 55.0]           3.049878      82   56.0  26.0    0.317073\n",
      "(55.0, 57.0]           2.506575      70   44.0  26.0    0.371429\n",
      "(57.0, 59.0]           0.744766      43   24.0  19.0    0.441860\n",
      "(59.0, 61.0]           5.435226      40   26.0  14.0    0.350000\n",
      "(61.0, 63.0]           1.290765      34   20.0  14.0    0.411765\n",
      "(63.0, 65.0]           1.220624      30   22.0   8.0    0.266667\n",
      "(65.0, 67.0]           2.071886      21   15.0   6.0    0.285714\n",
      "(67.0, 69.0]           5.525915      25   19.0   6.0    0.240000\n",
      "(69.0, 71.0]           0.771907       9    5.0   4.0    0.444444\n",
      "(71.0, 73.0]         -10.628274       8    4.0   4.0    0.500000\n",
      "(73.0, 75.0]                NaN       2    NaN   2.0    1.000000\n"
     ]
    },
    {
     "name": "stdout",
     "output_type": "stream",
     "text": [
      "\n",
      "The average observed effect (factoring in the size of each age 20 groups) is: 3.1821877028822345\n"
     ]
    },
    {
     "data": {
      "image/png": "[encoded data removed]",
      "text/plain": [
       "<Figure size 432x288 with 1 Axes>"
      ]
     },
     "metadata": {
      "needs_background": "light"
     },
     "output_type": "display_data"
    }
   ],
   "source": [
    "effect_by_k_groups(\"age\")"
   ]
  },
  {
   "cell_type": "code",
   "execution_count": 9,
   "metadata": {
    "scrolled": true
   },
   "outputs": [
    {
     "name": "stdout",
     "output_type": "stream",
     "text": [
      "The groups' intervals are:  [1, 80]\n",
      "                observed_effect  counts     0    1  propensity\n",
      "smokeintensity                                                \n",
      "(0.999, 80.0]          2.540581    1566  1163  403    0.257344\n",
      "\n",
      "The average observed effect (factoring in the size of each smokeintensity 1 groups) is: 2.540581454955886\n",
      "The groups' intervals are:  [1, 41, 81]\n",
      "                observed_effect  counts     0    1  propensity\n",
      "smokeintensity                                                \n",
      "(0.999, 41.0]          2.697641    1522  1129  393    0.258213\n",
      "(41.0, 81.0]          -3.423915      44    34   10    0.227273\n",
      "\n",
      "The average observed effect (factoring in the size of each smokeintensity 2 groups) is: 2.525643075109903\n",
      "The groups' intervals are:  [1, 27, 53, 79, 105]\n",
      "                observed_effect  counts      0      1  propensity\n",
      "smokeintensity                                                   \n",
      "(0.999, 27.0]          2.333753    1163  855.0  308.0    0.264832\n",
      "(27.0, 53.0]           3.396602     388  297.0   91.0    0.234536\n",
      "(53.0, 79.0]          -6.148020      14   11.0    3.0    0.214286\n",
      "(79.0, 105.0]               NaN       1    NaN    1.0    1.000000\n",
      "\n",
      "The average observed effect (factoring in the size of each smokeintensity 3 groups) is: 2.521382529935382\n",
      "The groups' intervals are:  [1, 21, 41, 61, 81]\n",
      "                observed_effect  counts      0      1  propensity\n",
      "smokeintensity                                                   \n",
      "(0.999, 21.0]          2.407569    1124  826.0  298.0    0.265125\n",
      "(21.0, 41.0]           3.618932     398  303.0   95.0    0.238693\n",
      "(41.0, 61.0]          -5.650421      43   34.0    9.0    0.209302\n",
      "(61.0, 81.0]                NaN       1    NaN    1.0    1.000000\n",
      "\n",
      "The average observed effect (factoring in the size of each smokeintensity 4 groups) is: 2.4942325784864674\n",
      "The groups' intervals are:  [1, 17, 33, 49, 65, 81]\n",
      "                observed_effect  counts      0      1  propensity\n",
      "smokeintensity                                                   \n",
      "(0.999, 17.0]          1.405333     552  371.0  181.0    0.327899\n",
      "(17.0, 33.0]           3.859233     789  615.0  174.0    0.220532\n",
      "(33.0, 49.0]           3.567262     189  150.0   39.0    0.206349\n",
      "(49.0, 65.0]          -5.246730      35   27.0    8.0    0.228571\n",
      "(65.0, 81.0]                NaN       1    NaN    1.0    1.000000\n",
      "\n",
      "The average observed effect (factoring in the size of each smokeintensity 5 groups) is: 2.7547959227276677\n",
      "The groups' intervals are:  [1, 14, 27, 40, 53, 66, 79, 92]\n",
      "                observed_effect  counts      0      1  propensity\n",
      "smokeintensity                                                   \n",
      "(0.999, 14.0]          1.509724     443  286.0  157.0    0.354402\n",
      "(14.0, 27.0]           3.457288     720  569.0  151.0    0.209722\n",
      "(27.0, 40.0]           4.027966     359  274.0   85.0    0.236769\n",
      "(40.0, 53.0]          -5.417417      29   23.0    6.0    0.206897\n",
      "(53.0, 66.0]          -6.148020      14   11.0    3.0    0.214286\n",
      "(66.0, 79.0]                NaN       0    NaN    NaN         NaN\n",
      "(79.0, 92.0]                NaN       1    NaN    1.0    1.000000\n",
      "\n",
      "The average observed effect (factoring in the size of each smokeintensity 6 groups) is: 2.7865287803931507\n",
      "The groups' intervals are:  [1, 12, 23, 34, 45, 56, 67, 78, 89]\n",
      "                observed_effect  counts      0      1  propensity\n",
      "smokeintensity                                                   \n",
      "(0.999, 12.0]          1.370794     433  281.0  152.0    0.351039\n",
      "(12.0, 23.0]           3.690873     692  546.0  146.0    0.210983\n",
      "(23.0, 34.0]           3.388578     216  159.0   57.0    0.263889\n",
      "(34.0, 45.0]           3.835250     188  150.0   38.0    0.202128\n",
      "(45.0, 56.0]          -5.181033      23   17.0    6.0    0.260870\n",
      "(56.0, 67.0]          -6.113288      13   10.0    3.0    0.230769\n",
      "(67.0, 78.0]                NaN       0    NaN    NaN         NaN\n",
      "(78.0, 89.0]                NaN       1    NaN    1.0    1.000000\n",
      "\n",
      "The average observed effect (factoring in the size of each smokeintensity 7 groups) is: 2.812754665298739\n",
      "The groups' intervals are:  [1, 11, 21, 31, 41, 51, 61, 71, 81]\n",
      "                observed_effect  counts      0      1  propensity\n",
      "smokeintensity                                                   \n",
      "(0.999, 11.0]          1.041084     409  263.0  146.0    0.356968\n",
      "(11.0, 21.0]           3.865812     715  563.0  152.0    0.212587\n",
      "(21.0, 31.0]           3.212388     216  159.0   57.0    0.263889\n",
      "(31.0, 41.0]           4.050765     182  144.0   38.0    0.208791\n",
      "(41.0, 51.0]          -5.417417      29   23.0    6.0    0.206897\n",
      "(51.0, 61.0]          -6.148020      14   11.0    3.0    0.214286\n",
      "(61.0, 71.0]                NaN       0    NaN    NaN         NaN\n",
      "(71.0, 81.0]                NaN       1    NaN    1.0    1.000000\n",
      "\n",
      "The average observed effect (factoring in the size of each smokeintensity 8 groups) is: 2.7973142798394317\n",
      "The groups' intervals are:  [1, 10, 19, 28, 37, 46, 55, 64, 73, 82]\n",
      "                observed_effect  counts      0      1  propensity\n",
      "smokeintensity                                                   \n",
      "(0.999, 10.0]          1.035776     406  262.0  144.0    0.354680\n",
      "(10.0, 19.0]           2.874015     155  117.0   38.0    0.245161\n",
      "(19.0, 28.0]           3.920244     603  476.0  127.0    0.210614\n",
      "(28.0, 37.0]           3.907510     190  140.0   50.0    0.263158\n",
      "(37.0, 46.0]           3.280332     176  141.0   35.0    0.198864\n",
      "(46.0, 55.0]          -4.736244      22   17.0    5.0    0.227273\n",
      "(55.0, 64.0]          -6.113288      13   10.0    3.0    0.230769\n",
      "(64.0, 73.0]                NaN       0    NaN    NaN         NaN\n",
      "(73.0, 82.0]                NaN       1    NaN    1.0    1.000000\n",
      "\n",
      "The average observed effect (factoring in the size of each smokeintensity 9 groups) is: 2.7897763203639823\n",
      "The groups' intervals are:  [1, 9, 17, 25, 33, 41, 49, 57, 65, 73, 81]\n",
      "                observed_effect  counts      0      1  propensity\n",
      "smokeintensity                                                   \n",
      "(0.999, 9.0]           1.493204     219  135.0   84.0    0.383562\n",
      "(9.0, 17.0]            1.475089     333  236.0   97.0    0.291291\n",
      "(17.0, 25.0]           3.779998     610  484.0  126.0    0.206557\n",
      "(25.0, 33.0]           3.985627     179  131.0   48.0    0.268156\n",
      "(33.0, 41.0]           3.923470     181  143.0   38.0    0.209945\n",
      "(41.0, 49.0]          -8.418486       8    7.0    1.0    0.125000\n",
      "(49.0, 57.0]          -4.736244      22   17.0    5.0    0.227273\n",
      "(57.0, 65.0]          -6.113288      13   10.0    3.0    0.230769\n",
      "(65.0, 73.0]                NaN       0    NaN    NaN         NaN\n",
      "(73.0, 81.0]                NaN       1    NaN    1.0    1.000000\n",
      "\n",
      "The average observed effect (factoring in the size of each smokeintensity 10 groups) is: 2.745413810751163\n",
      "The groups' intervals are:  [1, 8, 15, 22, 29, 36, 43, 50, 57, 64, 71, 78, 85]\n",
      "                observed_effect  counts      0      1  propensity\n",
      "smokeintensity                                                   \n",
      "(0.999, 8.0]           1.621107     215  132.0   83.0    0.386047\n",
      "(8.0, 15.0]            1.202968     329  232.0   97.0    0.294833\n",
      "(15.0, 22.0]           4.183300     581  463.0  118.0    0.203098\n",
      "(22.0, 29.0]           1.952924      39   28.0   11.0    0.282051\n",
      "(29.0, 36.0]           3.907510     190  140.0   50.0    0.263158\n",
      "(36.0, 43.0]           3.666666     168  134.0   34.0    0.202381\n",
      "(43.0, 50.0]          -5.417417      29   23.0    6.0    0.206897\n",
      "(50.0, 57.0]                NaN       1    1.0    NaN         NaN\n",
      "(57.0, 64.0]          -6.113288      13   10.0    3.0    0.230769\n",
      "(64.0, 71.0]                NaN       0    NaN    NaN         NaN\n",
      "(71.0, 78.0]                NaN       0    NaN    NaN         NaN\n",
      "(78.0, 85.0]                NaN       1    NaN    1.0    1.000000\n",
      "\n",
      "The average observed effect (factoring in the size of each smokeintensity 11 groups) is: 2.7959239450697657\n",
      "The groups' intervals are:  [1, 8, 15, 22, 29, 36, 43, 50, 57, 64, 71, 78, 85]\n",
      "                observed_effect  counts      0      1  propensity\n",
      "smokeintensity                                                   \n",
      "(0.999, 8.0]           1.621107     215  132.0   83.0    0.386047\n",
      "(8.0, 15.0]            1.202968     329  232.0   97.0    0.294833\n",
      "(15.0, 22.0]           4.183300     581  463.0  118.0    0.203098\n",
      "(22.0, 29.0]           1.952924      39   28.0   11.0    0.282051\n",
      "(29.0, 36.0]           3.907510     190  140.0   50.0    0.263158\n",
      "(36.0, 43.0]           3.666666     168  134.0   34.0    0.202381\n",
      "(43.0, 50.0]          -5.417417      29   23.0    6.0    0.206897\n",
      "(50.0, 57.0]                NaN       1    1.0    NaN         NaN\n",
      "(57.0, 64.0]          -6.113288      13   10.0    3.0    0.230769\n",
      "(64.0, 71.0]                NaN       0    NaN    NaN         NaN\n",
      "(71.0, 78.0]                NaN       0    NaN    NaN         NaN\n",
      "(78.0, 85.0]                NaN       1    NaN    1.0    1.000000\n",
      "\n",
      "The average observed effect (factoring in the size of each smokeintensity 12 groups) is: 2.7959239450697657\n",
      "The groups' intervals are:  [1, 7, 13, 19, 25, 31, 37, 43, 49, 55, 61, 67, 73, 79, 85]\n",
      "                observed_effect  counts      0      1  propensity\n",
      "smokeintensity                                                   \n",
      "(0.999, 7.0]           1.517944     196  114.0   82.0    0.418367\n",
      "(7.0, 13.0]            1.674856     242  169.0   73.0    0.301653\n",
      "(13.0, 19.0]           1.381477     123   96.0   27.0    0.219512\n",
      "(19.0, 25.0]           3.826413     601  476.0  125.0    0.207987\n",
      "(25.0, 31.0]           3.838725     178  130.0   48.0    0.269663\n",
      "(31.0, 37.0]           7.659029      14   10.0    4.0    0.285714\n",
      "(37.0, 43.0]           3.666666     168  134.0   34.0    0.202381\n",
      "(43.0, 49.0]          -8.418486       8    7.0    1.0    0.125000\n",
      "(49.0, 55.0]          -4.736244      22   17.0    5.0    0.227273\n",
      "(55.0, 61.0]          -6.113288      13   10.0    3.0    0.230769\n",
      "(61.0, 67.0]                NaN       0    NaN    NaN         NaN\n",
      "(67.0, 73.0]                NaN       0    NaN    NaN         NaN\n",
      "(73.0, 79.0]                NaN       0    NaN    NaN         NaN\n",
      "(79.0, 85.0]                NaN       1    NaN    1.0    1.000000\n",
      "\n",
      "The average observed effect (factoring in the size of each smokeintensity 13 groups) is: 2.7654497683439963\n",
      "The groups' intervals are:  [1, 7, 13, 19, 25, 31, 37, 43, 49, 55, 61, 67, 73, 79, 85]\n"
     ]
    },
    {
     "name": "stdout",
     "output_type": "stream",
     "text": [
      "                observed_effect  counts      0      1  propensity\n",
      "smokeintensity                                                   \n",
      "(0.999, 7.0]           1.517944     196  114.0   82.0    0.418367\n",
      "(7.0, 13.0]            1.674856     242  169.0   73.0    0.301653\n",
      "(13.0, 19.0]           1.381477     123   96.0   27.0    0.219512\n",
      "(19.0, 25.0]           3.826413     601  476.0  125.0    0.207987\n",
      "(25.0, 31.0]           3.838725     178  130.0   48.0    0.269663\n",
      "(31.0, 37.0]           7.659029      14   10.0    4.0    0.285714\n",
      "(37.0, 43.0]           3.666666     168  134.0   34.0    0.202381\n",
      "(43.0, 49.0]          -8.418486       8    7.0    1.0    0.125000\n",
      "(49.0, 55.0]          -4.736244      22   17.0    5.0    0.227273\n",
      "(55.0, 61.0]          -6.113288      13   10.0    3.0    0.230769\n",
      "(61.0, 67.0]                NaN       0    NaN    NaN         NaN\n",
      "(67.0, 73.0]                NaN       0    NaN    NaN         NaN\n",
      "(73.0, 79.0]                NaN       0    NaN    NaN         NaN\n",
      "(79.0, 85.0]                NaN       1    NaN    1.0    1.000000\n",
      "\n",
      "The average observed effect (factoring in the size of each smokeintensity 14 groups) is: 2.7654497683439963\n",
      "The groups' intervals are:  [1, 6, 11, 16, 21, 26, 31, 36, 41, 46, 51, 56, 61, 66, 71, 76, 81]\n",
      "                observed_effect  counts      0      1  propensity\n",
      "smokeintensity                                                   \n",
      "(0.999, 6.0]           1.616005     186  108.0   78.0    0.419355\n",
      "(6.0, 11.0]            0.653727     223  155.0   68.0    0.304933\n",
      "(11.0, 16.0]           3.054851     140  105.0   35.0    0.250000\n",
      "(16.0, 21.0]           4.104774     575  458.0  117.0    0.203478\n",
      "(21.0, 26.0]           0.139721      39   29.0   10.0    0.256410\n",
      "(26.0, 31.0]           3.861758     177  130.0   47.0    0.265537\n",
      "(31.0, 36.0]           7.659029      14   10.0    4.0    0.285714\n",
      "(36.0, 41.0]           3.666666     168  134.0   34.0    0.202381\n",
      "(41.0, 46.0]          -8.418486       8    7.0    1.0    0.125000\n",
      "(46.0, 51.0]          -4.632636      21   16.0    5.0    0.238095\n",
      "(51.0, 56.0]                NaN       1    1.0    NaN         NaN\n",
      "(56.0, 61.0]          -6.113288      13   10.0    3.0    0.230769\n",
      "(61.0, 66.0]                NaN       0    NaN    NaN         NaN\n",
      "(66.0, 71.0]                NaN       0    NaN    NaN         NaN\n",
      "(71.0, 76.0]                NaN       0    NaN    NaN         NaN\n",
      "(76.0, 81.0]                NaN       1    NaN    1.0    1.000000\n",
      "\n",
      "The average observed effect (factoring in the size of each smokeintensity 15 groups) is: 2.8148226563512195\n",
      "The groups' intervals are:  [1, 6, 11, 16, 21, 26, 31, 36, 41, 46, 51, 56, 61, 66, 71, 76, 81]\n",
      "                observed_effect  counts      0      1  propensity\n",
      "smokeintensity                                                   \n",
      "(0.999, 6.0]           1.616005     186  108.0   78.0    0.419355\n",
      "(6.0, 11.0]            0.653727     223  155.0   68.0    0.304933\n",
      "(11.0, 16.0]           3.054851     140  105.0   35.0    0.250000\n",
      "(16.0, 21.0]           4.104774     575  458.0  117.0    0.203478\n",
      "(21.0, 26.0]           0.139721      39   29.0   10.0    0.256410\n",
      "(26.0, 31.0]           3.861758     177  130.0   47.0    0.265537\n",
      "(31.0, 36.0]           7.659029      14   10.0    4.0    0.285714\n",
      "(36.0, 41.0]           3.666666     168  134.0   34.0    0.202381\n",
      "(41.0, 46.0]          -8.418486       8    7.0    1.0    0.125000\n",
      "(46.0, 51.0]          -4.632636      21   16.0    5.0    0.238095\n",
      "(51.0, 56.0]                NaN       1    1.0    NaN         NaN\n",
      "(56.0, 61.0]          -6.113288      13   10.0    3.0    0.230769\n",
      "(61.0, 66.0]                NaN       0    NaN    NaN         NaN\n",
      "(66.0, 71.0]                NaN       0    NaN    NaN         NaN\n",
      "(71.0, 76.0]                NaN       0    NaN    NaN         NaN\n",
      "(76.0, 81.0]                NaN       1    NaN    1.0    1.000000\n",
      "\n",
      "The average observed effect (factoring in the size of each smokeintensity 16 groups) is: 2.8148226563512195\n",
      "The groups' intervals are:  [1, 6, 11, 16, 21, 26, 31, 36, 41, 46, 51, 56, 61, 66, 71, 76, 81]\n",
      "                observed_effect  counts      0      1  propensity\n",
      "smokeintensity                                                   \n",
      "(0.999, 6.0]           1.616005     186  108.0   78.0    0.419355\n",
      "(6.0, 11.0]            0.653727     223  155.0   68.0    0.304933\n",
      "(11.0, 16.0]           3.054851     140  105.0   35.0    0.250000\n",
      "(16.0, 21.0]           4.104774     575  458.0  117.0    0.203478\n",
      "(21.0, 26.0]           0.139721      39   29.0   10.0    0.256410\n",
      "(26.0, 31.0]           3.861758     177  130.0   47.0    0.265537\n",
      "(31.0, 36.0]           7.659029      14   10.0    4.0    0.285714\n",
      "(36.0, 41.0]           3.666666     168  134.0   34.0    0.202381\n",
      "(41.0, 46.0]          -8.418486       8    7.0    1.0    0.125000\n",
      "(46.0, 51.0]          -4.632636      21   16.0    5.0    0.238095\n",
      "(51.0, 56.0]                NaN       1    1.0    NaN         NaN\n",
      "(56.0, 61.0]          -6.113288      13   10.0    3.0    0.230769\n",
      "(61.0, 66.0]                NaN       0    NaN    NaN         NaN\n",
      "(66.0, 71.0]                NaN       0    NaN    NaN         NaN\n",
      "(71.0, 76.0]                NaN       0    NaN    NaN         NaN\n",
      "(76.0, 81.0]                NaN       1    NaN    1.0    1.000000\n",
      "\n",
      "The average observed effect (factoring in the size of each smokeintensity 17 groups) is: 2.8148226563512195\n",
      "The groups' intervals are:  [1, 5, 9, 13, 17, 21, 25, 29, 33, 37, 41, 45, 49, 53, 57, 61, 65, 69, 73, 77, 81]\n",
      "                observed_effect  counts      0      1  propensity\n",
      "smokeintensity                                                   \n",
      "(0.999, 5.0]           1.837188     163   98.0   65.0    0.398773\n",
      "(5.0, 9.0]             0.408572      56   37.0   19.0    0.339286\n",
      "(9.0, 13.0]            1.630921     219  148.0   71.0    0.324201\n",
      "(13.0, 17.0]           1.463186     114   88.0   26.0    0.228070\n",
      "(17.0, 21.0]           4.087035     572  455.0  117.0    0.204545\n",
      "(21.0, 25.0]          -0.208827      38   29.0    9.0    0.236842\n",
      "(25.0, 29.0]                NaN       2    NaN    2.0    1.000000\n",
      "(29.0, 33.0]           3.746643     177  131.0   46.0    0.259887\n",
      "(33.0, 37.0]           5.740803      13    9.0    4.0    0.307692\n",
      "(37.0, 41.0]           3.666666     168  134.0   34.0    0.202381\n",
      "(41.0, 45.0]                NaN       7    7.0    NaN         NaN\n",
      "(45.0, 49.0]                NaN       1    NaN    1.0    1.000000\n",
      "(49.0, 53.0]          -4.632636      21   16.0    5.0    0.238095\n",
      "(53.0, 57.0]                NaN       1    1.0    NaN         NaN\n",
      "(57.0, 61.0]          -6.113288      13   10.0    3.0    0.230769\n",
      "(61.0, 65.0]                NaN       0    NaN    NaN         NaN\n",
      "(65.0, 69.0]                NaN       0    NaN    NaN         NaN\n",
      "(69.0, 73.0]                NaN       0    NaN    NaN         NaN\n",
      "(73.0, 77.0]                NaN       0    NaN    NaN         NaN\n",
      "(77.0, 81.0]                NaN       1    NaN    1.0    1.000000\n",
      "\n",
      "The average observed effect (factoring in the size of each smokeintensity 18 groups) is: 2.801282529990038\n",
      "The groups' intervals are:  [1, 5, 9, 13, 17, 21, 25, 29, 33, 37, 41, 45, 49, 53, 57, 61, 65, 69, 73, 77, 81]\n",
      "                observed_effect  counts      0      1  propensity\n",
      "smokeintensity                                                   \n",
      "(0.999, 5.0]           1.837188     163   98.0   65.0    0.398773\n",
      "(5.0, 9.0]             0.408572      56   37.0   19.0    0.339286\n",
      "(9.0, 13.0]            1.630921     219  148.0   71.0    0.324201\n",
      "(13.0, 17.0]           1.463186     114   88.0   26.0    0.228070\n",
      "(17.0, 21.0]           4.087035     572  455.0  117.0    0.204545\n",
      "(21.0, 25.0]          -0.208827      38   29.0    9.0    0.236842\n",
      "(25.0, 29.0]                NaN       2    NaN    2.0    1.000000\n",
      "(29.0, 33.0]           3.746643     177  131.0   46.0    0.259887\n",
      "(33.0, 37.0]           5.740803      13    9.0    4.0    0.307692\n",
      "(37.0, 41.0]           3.666666     168  134.0   34.0    0.202381\n",
      "(41.0, 45.0]                NaN       7    7.0    NaN         NaN\n",
      "(45.0, 49.0]                NaN       1    NaN    1.0    1.000000\n",
      "(49.0, 53.0]          -4.632636      21   16.0    5.0    0.238095\n",
      "(53.0, 57.0]                NaN       1    1.0    NaN         NaN\n",
      "(57.0, 61.0]          -6.113288      13   10.0    3.0    0.230769\n",
      "(61.0, 65.0]                NaN       0    NaN    NaN         NaN\n",
      "(65.0, 69.0]                NaN       0    NaN    NaN         NaN\n",
      "(69.0, 73.0]                NaN       0    NaN    NaN         NaN\n",
      "(73.0, 77.0]                NaN       0    NaN    NaN         NaN\n",
      "(77.0, 81.0]                NaN       1    NaN    1.0    1.000000\n",
      "\n",
      "The average observed effect (factoring in the size of each smokeintensity 19 groups) is: 2.801282529990038\n",
      "The groups' intervals are:  [1, 5, 9, 13, 17, 21, 25, 29, 33, 37, 41, 45, 49, 53, 57, 61, 65, 69, 73, 77, 81]\n"
     ]
    },
    {
     "name": "stdout",
     "output_type": "stream",
     "text": [
      "                observed_effect  counts      0      1  propensity\n",
      "smokeintensity                                                   \n",
      "(0.999, 5.0]           1.837188     163   98.0   65.0    0.398773\n",
      "(5.0, 9.0]             0.408572      56   37.0   19.0    0.339286\n",
      "(9.0, 13.0]            1.630921     219  148.0   71.0    0.324201\n",
      "(13.0, 17.0]           1.463186     114   88.0   26.0    0.228070\n",
      "(17.0, 21.0]           4.087035     572  455.0  117.0    0.204545\n",
      "(21.0, 25.0]          -0.208827      38   29.0    9.0    0.236842\n",
      "(25.0, 29.0]                NaN       2    NaN    2.0    1.000000\n",
      "(29.0, 33.0]           3.746643     177  131.0   46.0    0.259887\n",
      "(33.0, 37.0]           5.740803      13    9.0    4.0    0.307692\n",
      "(37.0, 41.0]           3.666666     168  134.0   34.0    0.202381\n",
      "(41.0, 45.0]                NaN       7    7.0    NaN         NaN\n",
      "(45.0, 49.0]                NaN       1    NaN    1.0    1.000000\n",
      "(49.0, 53.0]          -4.632636      21   16.0    5.0    0.238095\n",
      "(53.0, 57.0]                NaN       1    1.0    NaN         NaN\n",
      "(57.0, 61.0]          -6.113288      13   10.0    3.0    0.230769\n",
      "(61.0, 65.0]                NaN       0    NaN    NaN         NaN\n",
      "(65.0, 69.0]                NaN       0    NaN    NaN         NaN\n",
      "(69.0, 73.0]                NaN       0    NaN    NaN         NaN\n",
      "(73.0, 77.0]                NaN       0    NaN    NaN         NaN\n",
      "(77.0, 81.0]                NaN       1    NaN    1.0    1.000000\n",
      "\n",
      "The average observed effect (factoring in the size of each smokeintensity 20 groups) is: 2.801282529990038\n"
     ]
    },
    {
     "data": {
      "image/png": "[encoded data removed]",
      "text/plain": [
       "<Figure size 432x288 with 1 Axes>"
      ]
     },
     "metadata": {
      "needs_background": "light"
     },
     "output_type": "display_data"
    }
   ],
   "source": [
    "effect_by_k_groups(\"smokeintensity\")"
   ]
  },
  {
   "cell_type": "markdown",
   "metadata": {},
   "source": [
    "The conclusionare are:\n",
    "- The effect strongly depends on the distribution of the samples in the averaged groups - different grouping leads to different effect value.\n",
    "- There is a general upward trend\n",
    "- However, we do see a convergence of the effect value along with the K values."
   ]
  }
 ],
 "metadata": {
  "kernelspec": {
   "display_name": "Python 3",
   "language": "python",
   "name": "python3"
  },
  "language_info": {
   "codemirror_mode": {
    "name": "ipython",
    "version": 3
   },
   "file_extension": ".py",
   "mimetype": "text/x-python",
   "name": "python",
   "nbconvert_exporter": "python",
   "pygments_lexer": "ipython3",
   "version": "3.7.7"
  }
 },
 "nbformat": 4,
 "nbformat_minor": 4
}
